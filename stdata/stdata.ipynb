{
 "cells": [
  {
   "cell_type": "code",
   "execution_count": 1,
   "metadata": {
    "collapsed": true
   },
   "outputs": [
    {
     "name": "stdout",
     "output_type": "stream",
     "text": [
      "/Users/dzzxjl/PycharmProjects/tianchi/stdata/train.csv\n"
     ]
    }
   ],
   "source": [
    "import matplotlib.pyplot as plt\n",
    "%matplotlib inline\n",
    "\n",
    "from matplotlib import cm\n",
    "\n",
    "import seaborn as sns\n",
    "sns.set(style=\"white\", palette=\"muted\", color_codes=True)\n",
    "import pandas as pd\n",
    "pd.options.mode.chained_assignment = None \n",
    "import numpy as np\n",
    "\n",
    "path = '/Users/dzzxjl/PycharmProjects/tianchi/stdata/train.csv'\n",
    "print(path)"
   ]
  },
  {
   "cell_type": "code",
   "execution_count": 2,
   "metadata": {},
   "outputs": [
    {
     "data": {
      "text/html": [
       "<div>\n",
       "<style>\n",
       "    .dataframe thead tr:only-child th {\n",
       "        text-align: right;\n",
       "    }\n",
       "\n",
       "    .dataframe thead th {\n",
       "        text-align: left;\n",
       "    }\n",
       "\n",
       "    .dataframe tbody tr th {\n",
       "        vertical-align: top;\n",
       "    }\n",
       "</style>\n",
       "<table border=\"1\" class=\"dataframe\">\n",
       "  <thead>\n",
       "    <tr style=\"text-align: right;\">\n",
       "      <th></th>\n",
       "      <th>Latitude</th>\n",
       "      <th>Longitude</th>\n",
       "      <th>Zero</th>\n",
       "      <th>Feet</th>\n",
       "      <th>Timestamp</th>\n",
       "      <th>Date</th>\n",
       "      <th>Time</th>\n",
       "    </tr>\n",
       "  </thead>\n",
       "  <tbody>\n",
       "    <tr>\n",
       "      <th>0</th>\n",
       "      <td>40.008304</td>\n",
       "      <td>116.319876</td>\n",
       "      <td>0</td>\n",
       "      <td>492</td>\n",
       "      <td>39745.090266</td>\n",
       "      <td>2008-10-24</td>\n",
       "      <td>02:09:59</td>\n",
       "    </tr>\n",
       "    <tr>\n",
       "      <th>1</th>\n",
       "      <td>40.008413</td>\n",
       "      <td>116.319962</td>\n",
       "      <td>0</td>\n",
       "      <td>491</td>\n",
       "      <td>39745.090324</td>\n",
       "      <td>2008-10-24</td>\n",
       "      <td>02:10:04</td>\n",
       "    </tr>\n",
       "    <tr>\n",
       "      <th>2</th>\n",
       "      <td>40.007171</td>\n",
       "      <td>116.319458</td>\n",
       "      <td>0</td>\n",
       "      <td>-46</td>\n",
       "      <td>39745.090382</td>\n",
       "      <td>2008-10-24</td>\n",
       "      <td>02:10:09</td>\n",
       "    </tr>\n",
       "    <tr>\n",
       "      <th>3</th>\n",
       "      <td>40.007209</td>\n",
       "      <td>116.319484</td>\n",
       "      <td>0</td>\n",
       "      <td>-48</td>\n",
       "      <td>39745.090440</td>\n",
       "      <td>2008-10-24</td>\n",
       "      <td>02:10:14</td>\n",
       "    </tr>\n",
       "  </tbody>\n",
       "</table>\n",
       "</div>"
      ],
      "text/plain": [
       "<div>\n",
       "<style>\n",
       "    .dataframe thead tr:only-child th {\n",
       "        text-align: right;\n",
       "    }\n",
       "\n",
       "    .dataframe thead th {\n",
       "        text-align: left;\n",
       "    }\n",
       "\n",
       "    .dataframe tbody tr th {\n",
       "        vertical-align: top;\n",
       "    }\n",
       "</style>\n",
       "<table border=\"1\" class=\"dataframe\">\n",
       "  <thead>\n",
       "    <tr style=\"text-align: right;\">\n",
       "      <th></th>\n",
       "      <th>Latitude</th>\n",
       "      <th>Longitude</th>\n",
       "      <th>Zero</th>\n",
       "      <th>Feet</th>\n",
       "      <th>Timestamp</th>\n",
       "      <th>Date</th>\n",
       "      <th>Time</th>\n",
       "    </tr>\n",
       "  </thead>\n",
       "  <tbody>\n",
       "    <tr>\n",
       "      <th>0</th>\n",
       "      <td>40.008304</td>\n",
       "      <td>116.319876</td>\n",
       "      <td>0</td>\n",
       "      <td>492</td>\n",
       "      <td>39745.090266</td>\n",
       "      <td>2008-10-24</td>\n",
       "      <td>02:09:59</td>\n",
       "    </tr>\n",
       "    <tr>\n",
       "      <th>1</th>\n",
       "      <td>40.008413</td>\n",
       "      <td>116.319962</td>\n",
       "      <td>0</td>\n",
       "      <td>491</td>\n",
       "      <td>39745.090324</td>\n",
       "      <td>2008-10-24</td>\n",
       "      <td>02:10:04</td>\n",
       "    </tr>\n",
       "    <tr>\n",
       "      <th>2</th>\n",
       "      <td>40.007171</td>\n",
       "      <td>116.319458</td>\n",
       "      <td>0</td>\n",
       "      <td>-46</td>\n",
       "      <td>39745.090382</td>\n",
       "      <td>2008-10-24</td>\n",
       "      <td>02:10:09</td>\n",
       "    </tr>\n",
       "    <tr>\n",
       "      <th>3</th>\n",
       "      <td>40.007209</td>\n",
       "      <td>116.319484</td>\n",
       "      <td>0</td>\n",
       "      <td>-48</td>\n",
       "      <td>39745.090440</td>\n",
       "      <td>2008-10-24</td>\n",
       "      <td>02:10:14</td>\n",
       "    </tr>\n",
       "  </tbody>\n",
       "</table>\n",
       "</div>"
      ]
     },
     "execution_count": 2,
     "metadata": {},
     "output_type": "execute_result"
    }
   ],
   "source": [
    "train = pd.read_csv(path)\n",
    "train.head(4)\n"
   ]
  },
  {
   "cell_type": "code",
   "execution_count": 10,
   "metadata": {
    "collapsed": false
   },
   "outputs": [
    {
     "data": {
      "image/png": "[encoded data removed]",
      "text/plain": [
       "<matplotlib.figure.Figure at 0x10c5e7cc0>"
      ]
     },
     "metadata": {},
     "output_type": "display_data"
    }
   ],
   "source": [
    "f, ax = plt.subplots(1, 1, sharey=True)\n",
    "\n",
    "\n",
    "# Longitude数据有问题\n",
    "train.plot(kind='scatter', x='Longitude', y='Latitude', \n",
    "                color='yellow',  alpha=.6, subplots=True, ax=ax, ylim=(40.005,40.010))\n",
    "# plt.xlim=(0.0175,0.025)\n",
    "\n",
    "ax.set_title(\"Trajectory\")\n",
    "ax.set_facecolor('black')\n",
    "\n",
    "# train.plot(kind='scatter', x='dropoff_longitude', y='dropoff_latitude',\n",
    "#                 color='yellow', \n",
    "#                 s=.02, alpha=.6, subplots=True, ax=ax2)\n",
    "# ax2.set_title(\"Dropoffs\")\n",
    "# ax2.set_facecolor('black') "
   ]
  },
  {
   "cell_type": "code",
   "execution_count": null,
   "metadata": {},
   "outputs": [],
   "source": []
  }
 ],
 "metadata": {
  "kernelspec": {
   "display_name": "Python 2",
   "language": "python",
   "name": "python2"
  },
  "language_info": {
   "codemirror_mode": {
    "name": "ipython",
    "version": 2
   },
   "file_extension": ".py",
   "mimetype": "text/x-python",
   "name": "python",
   "nbconvert_exporter": "python",
   "pygments_lexer": "ipython2",
   "version": "2.7.6"
  }
 },
 "nbformat": 4,
 "nbformat_minor": 0
}
